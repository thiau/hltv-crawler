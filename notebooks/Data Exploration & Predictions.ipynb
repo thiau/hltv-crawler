{
 "cells": [
  {
   "cell_type": "code",
   "execution_count": 1,
   "metadata": {},
   "outputs": [],
   "source": [
    "import pandas as pd\n",
    "import numpy as np\n",
    "from sklearn.compose import ColumnTransformer\n",
    "from sklearn.preprocessing import OneHotEncoder\n",
    "from sklearn.model_selection import train_test_split, cross_val_score"
   ]
  },
  {
   "cell_type": "code",
   "execution_count": 2,
   "metadata": {},
   "outputs": [],
   "source": [
    "ds = pd.read_json(\"datasets/matches_parsed_2019_2020.json\")"
   ]
  },
  {
   "cell_type": "code",
   "execution_count": null,
   "metadata": {},
   "outputs": [],
   "source": [
    "ds = ds[(ds[\"team1\"] == \"Natus Vincere\") | (ds[\"team2\"] == \"Natus Vincere\")]"
   ]
  },
  {
   "cell_type": "code",
   "execution_count": null,
   "metadata": {},
   "outputs": [],
   "source": [
    "ds[(ds[\"team1\"] == \"ENCE\") | (ds[\"team2\"] == \"ENCE\")]"
   ]
  },
  {
   "cell_type": "code",
   "execution_count": 3,
   "metadata": {},
   "outputs": [
    {
     "data": {
      "text/plain": [
       "20330"
      ]
     },
     "execution_count": 3,
     "metadata": {},
     "output_type": "execute_result"
    }
   ],
   "source": [
    "len(ds)"
   ]
  },
  {
   "cell_type": "code",
   "execution_count": null,
   "metadata": {},
   "outputs": [],
   "source": [
    "# ds = ds[[\"oposite_team\", \"map\", \"pick\", \"mapWinRate\", \"victory\"]]\n",
    "# ds = ds[[\"oposite_team\", \"map\", \"pick\", \"victory\"]]\n",
    "# ds = ds[[\"oposite_team\", \"map\",\"victory\"]]\n",
    "# ds = ds[[\"oposite_team\",\"victory\"]]"
   ]
  },
  {
   "cell_type": "code",
   "execution_count": 4,
   "metadata": {},
   "outputs": [],
   "source": [
    "X = ds.iloc[:, :-1].values\n",
    "y = ds.iloc[:, -1].values"
   ]
  },
  {
   "cell_type": "code",
   "execution_count": 5,
   "metadata": {},
   "outputs": [],
   "source": [
    "ct = ColumnTransformer(transformers=[('encoder', OneHotEncoder(), [0, 1, 2])], remainder='passthrough')"
   ]
  },
  {
   "cell_type": "code",
   "execution_count": 6,
   "metadata": {},
   "outputs": [],
   "source": [
    "encoder = ct.fit(X)"
   ]
  },
  {
   "cell_type": "code",
   "execution_count": 7,
   "metadata": {},
   "outputs": [],
   "source": [
    "X = encoder.transform(X).toarray()"
   ]
  },
  {
   "cell_type": "code",
   "execution_count": 8,
   "metadata": {},
   "outputs": [],
   "source": [
    "X_train, X_test, y_train, y_test = train_test_split(X, y, test_size = 0.25, random_state = 0)"
   ]
  },
  {
   "cell_type": "code",
   "execution_count": null,
   "metadata": {},
   "outputs": [],
   "source": [
    "from sklearn.naive_bayes import GaussianNB"
   ]
  },
  {
   "cell_type": "code",
   "execution_count": null,
   "metadata": {},
   "outputs": [],
   "source": [
    "classifier = GaussianNB()\n",
    "classifier.fit(X_train,y_train)\n",
    "y_pred = classifier.predict(X_test)"
   ]
  },
  {
   "cell_type": "code",
   "execution_count": null,
   "metadata": {},
   "outputs": [],
   "source": [
    "accuracies = cross_val_score(estimator=classifier, X=X_train, y=y_train, cv=5)\n",
    "print(\"Accuracy is \\x1b[1;31m{}%\\x1b[0m\".format(round(accuracies.mean().round(3) * 100,2)))"
   ]
  },
  {
   "cell_type": "code",
   "execution_count": null,
   "metadata": {},
   "outputs": [],
   "source": [
    "from sklearn.tree import DecisionTreeClassifier"
   ]
  },
  {
   "cell_type": "code",
   "execution_count": null,
   "metadata": {},
   "outputs": [],
   "source": [
    "classifier = DecisionTreeClassifier()\n",
    "classifier.fit(X_train,y_train)\n",
    "y_pred = classifier.predict(X_test)"
   ]
  },
  {
   "cell_type": "code",
   "execution_count": null,
   "metadata": {},
   "outputs": [],
   "source": [
    "accuracies = cross_val_score(estimator=classifier, X=X_train, y=y_train, cv=5)\n",
    "print(\"Accuracy is \\x1b[1;31m{}%\\x1b[0m\".format(round(accuracies.mean().round(3) * 100,2)))"
   ]
  },
  {
   "cell_type": "code",
   "execution_count": 9,
   "metadata": {},
   "outputs": [],
   "source": [
    "from sklearn.ensemble import RandomForestClassifier"
   ]
  },
  {
   "cell_type": "code",
   "execution_count": 10,
   "metadata": {},
   "outputs": [
    {
     "data": {
      "text/plain": [
       "RandomForestClassifier(n_estimators=25, random_state=0)"
      ]
     },
     "execution_count": 10,
     "metadata": {},
     "output_type": "execute_result"
    }
   ],
   "source": [
    "classifier = RandomForestClassifier(n_estimators=25, criterion='gini', random_state=0)\n",
    "classifier.fit(X_train,y_train)\n",
    "# y_pred = classifier.predict(X_test)"
   ]
  },
  {
   "cell_type": "code",
   "execution_count": null,
   "metadata": {},
   "outputs": [],
   "source": [
    "accuracies = cross_val_score(estimator=classifier, X=X_train, y=y_train, cv=5)\n",
    "print(\"Accuracy is \\x1b[1;31m{}%\\x1b[0m\".format(round(accuracies.mean().round(3) * 100,2)))"
   ]
  },
  {
   "cell_type": "markdown",
   "metadata": {},
   "source": [
    "### Testing the model"
   ]
  },
  {
   "cell_type": "code",
   "execution_count": null,
   "metadata": {},
   "outputs": [],
   "source": [
    "ds.map.unique()"
   ]
  },
  {
   "cell_type": "code",
   "execution_count": 23,
   "metadata": {},
   "outputs": [],
   "source": [
    "team1 = 'ENCE'\n",
    "team2 = 'Natus Vincere'"
   ]
  },
  {
   "cell_type": "code",
   "execution_count": 36,
   "metadata": {},
   "outputs": [
    {
     "name": "stdout",
     "output_type": "stream",
     "text": [
      "ENCE vs Natus Vincere // Map: trn // pick: ENCE\n",
      "ENCE Ganha\n"
     ]
    }
   ],
   "source": [
    "map = 'trn'\n",
    "pick_team = 'ENCE'\n",
    "other_team = team2 if pick_team == team1 else team1\n",
    "\n",
    "print(f\"{team1} vs {team2} // Map: {map} // pick: {pick_team}\")\n",
    "\n",
    "ds_test = [[pick_team, other_team, 'd2']]\n",
    "X_new = encoder.transform(ds_test).toarray()\n",
    "y_pred = classifier.predict(X_new)\n",
    "\n",
    "winner = pick_team if y_pred[0] == 0 else other_team\n",
    "print(f'{winner} Ganha')"
   ]
  },
  {
   "cell_type": "code",
   "execution_count": 37,
   "metadata": {},
   "outputs": [
    {
     "name": "stdout",
     "output_type": "stream",
     "text": [
      "ENCE vs Natus Vincere // Map: d2 // pick: Natus Vincere\n",
      "Natus Vincere Ganha\n"
     ]
    }
   ],
   "source": [
    "map = 'd2'\n",
    "pick_team = 'Natus Vincere'\n",
    "other_team = team2 if pick_team == team1 else team1\n",
    "\n",
    "print(f\"{team1} vs {team2} // Map: {map} // pick: {pick_team}\")\n",
    "\n",
    "ds_test = [[pick_team, other_team, 'd2']]\n",
    "X_new = encoder.transform(ds_test).toarray()\n",
    "y_pred = classifier.predict(X_new)\n",
    "\n",
    "winner = pick_team if y_pred[0] == 0 else other_team\n",
    "print(f'{winner} Ganha')"
   ]
  },
  {
   "cell_type": "code",
   "execution_count": 15,
   "metadata": {},
   "outputs": [
    {
     "data": {
      "text/plain": [
       "array([[0.36, 0.64]])"
      ]
     },
     "execution_count": 15,
     "metadata": {},
     "output_type": "execute_result"
    }
   ],
   "source": [
    "map = 'd2'\n",
    "pick_team = 'Natus Vincere'\n",
    "other_team = team2 if pick_team == team1 else team1\n",
    "\n",
    "print(f\"{team1} vs {team2} // Map: {map} // pick: {pick_team}\")\n",
    "\n",
    "ds_test = [[pick_team, other_team, 'd2']]\n",
    "X_new = encoder.transform(ds_test).toarray()\n",
    "y_pred = classifier.predict(X_new)\n",
    "\n",
    "winner = pick_team if y_pred[0] == 0 else other_team\n",
    "print(f'{winner} Ganha')"
   ]
  },
  {
   "cell_type": "code",
   "execution_count": null,
   "metadata": {},
   "outputs": [],
   "source": [
    "X"
   ]
  },
  {
   "cell_type": "code",
   "execution_count": null,
   "metadata": {},
   "outputs": [],
   "source": [
    "X"
   ]
  },
  {
   "cell_type": "code",
   "execution_count": null,
   "metadata": {},
   "outputs": [],
   "source": []
  }
 ],
 "metadata": {
  "kernelspec": {
   "display_name": "Python 3",
   "language": "python",
   "name": "python3"
  },
  "language_info": {
   "codemirror_mode": {
    "name": "ipython",
    "version": 3
   },
   "file_extension": ".py",
   "mimetype": "text/x-python",
   "name": "python",
   "nbconvert_exporter": "python",
   "pygments_lexer": "ipython3",
   "version": "3.8.3"
  }
 },
 "nbformat": 4,
 "nbformat_minor": 4
}
